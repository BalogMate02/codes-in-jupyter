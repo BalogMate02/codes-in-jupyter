{
  "nbformat": 4,
  "nbformat_minor": 0,
  "metadata": {
    "colab": {
      "provenance": []
    },
    "kernelspec": {
      "name": "python3",
      "display_name": "Python 3"
    },
    "language_info": {
      "name": "python"
    }
  },
  "cells": [
    {
      "cell_type": "code",
      "execution_count": null,
      "metadata": {
        "id": "OUzWQMCA8IhW"
      },
      "outputs": [],
      "source": [
        "import pandas as pd"
      ]
    },
    {
      "cell_type": "code",
      "source": [
        "df1 = pd.read_excel('kinyertmez.xlsx')\n",
        "df2 = pd.read_excel('mehcsalad.xlsx')"
      ],
      "metadata": {
        "id": "dkNk-IiG8WJq"
      },
      "execution_count": null,
      "outputs": []
    },
    {
      "cell_type": "markdown",
      "source": [
        "nem maradnak meg az oszlopnevek"
      ],
      "metadata": {
        "id": "PhXwmPDEDUev"
      }
    },
    {
      "cell_type": "code",
      "source": [
        "df = pd.concat([df1, df2], axis=1, ignore_index=True)"
      ],
      "metadata": {
        "id": "qtc6K9Fd9rnA"
      },
      "execution_count": null,
      "outputs": []
    },
    {
      "cell_type": "code",
      "source": [
        "df = pd.merge(df1, df2, on=['Év', 'Össz'], suffixes=('_méhcsalád', '_méz'))\n"
      ],
      "metadata": {
        "id": "EihxPl2A8ioC"
      },
      "execution_count": null,
      "outputs": []
    },
    {
      "cell_type": "code",
      "source": [
        "df = df.drop(columns=['Unnamed: 0_méhcsalád', 'Unnamed: 0_méz'])"
      ],
      "metadata": {
        "id": "oUFjZViWERDI"
      },
      "execution_count": null,
      "outputs": []
    },
    {
      "cell_type": "code",
      "source": [
        "df.to_excel('mezmehegy.xlsx')\n",
        "df.to_csv('mezmehegy.csv')"
      ],
      "metadata": {
        "id": "CNcjSi6DTCaS"
      },
      "execution_count": null,
      "outputs": []
    },
    {
      "cell_type": "code",
      "source": [
        "df3 = pd.read_excel('arindex.xlsx')\n",
        "df4 = pd.read_excel('fogyasztoi_arindex.xlsx')\n",
        "df5 = pd.read_excel('beszerzesiar.xlsx')"
      ],
      "metadata": {
        "id": "12MMLrTs-DGR"
      },
      "execution_count": null,
      "outputs": []
    },
    {
      "cell_type": "code",
      "source": [
        "df = pd.merge(df3, df4, on=['Év'], suffixes=('_ar', '_far'))\n",
        "df = pd.merge(df, df5, on=['Év'], suffixes=('_fari', '_bar'))"
      ],
      "metadata": {
        "id": "Q_Hs9oW_-X02"
      },
      "execution_count": null,
      "outputs": []
    },
    {
      "cell_type": "code",
      "source": [
        "df = df.drop(columns=['Unnamed: 0_ar', 'Unnamed: 0_far', 'Unnamed: 0'])"
      ],
      "metadata": {
        "id": "IvjLSfBt--la"
      },
      "execution_count": null,
      "outputs": []
    },
    {
      "cell_type": "code",
      "source": [
        "df.to_excel('mezar.xlsx')\n",
        "df.to_csv('mezar.csv')"
      ],
      "metadata": {
        "id": "QJznLkij_Ne6"
      },
      "execution_count": null,
      "outputs": []
    },
    {
      "cell_type": "markdown",
      "source": [
        "regiok egyesítése kinyert méz a mehcsaladok szamaval"
      ],
      "metadata": {
        "id": "M-zYiWvKoZqN"
      }
    },
    {
      "cell_type": "code",
      "source": [
        "df6 = pd.read_excel('mehregio (3).xlsx')\n",
        "df7 = pd.read_excel('mezregio.xlsx')"
      ],
      "metadata": {
        "id": "f8zm3zO0OGLe"
      },
      "execution_count": null,
      "outputs": []
    },
    {
      "cell_type": "code",
      "source": [
        "df6.drop('Unnamed: 0', axis=1, inplace=True)\n",
        "df7.drop('Unnamed: 0', axis=1, inplace=True)"
      ],
      "metadata": {
        "id": "Z3ojdg_vhyUY"
      },
      "execution_count": null,
      "outputs": []
    },
    {
      "cell_type": "code",
      "source": [
        "df = pd.merge(df6, df7, on=['Év', 'Régiók, fejlesztési régiók és makrorégiók'], how='outer', suffixes=('_méhcsalád', '_méz'))"
      ],
      "metadata": {
        "id": "w6Kmu33yOrue"
      },
      "execution_count": null,
      "outputs": []
    },
    {
      "cell_type": "code",
      "source": [
        "df6['Régiók, fejlesztési régiók és makrorégiók'] = df6['Régiók, fejlesztési régiók és makrorégiók'].str.replace(' - total', '')"
      ],
      "metadata": {
        "id": "Q53Q67nQUUsx"
      },
      "execution_count": null,
      "outputs": []
    },
    {
      "cell_type": "code",
      "source": [
        "df7 = df7[df7['Régiók, fejlesztési régiók és makrorégiók'] != 'TOTAL']"
      ],
      "metadata": {
        "id": "4jj3MkbKgTcr"
      },
      "execution_count": null,
      "outputs": []
    },
    {
      "cell_type": "code",
      "source": [
        "df7['Régiók, fejlesztési régiók és makrorégiók'] = df7['Régiók, fejlesztési régiók és makrorégiók'].str.replace('Centru / Centre', 'Közép')"
      ],
      "metadata": {
        "id": "11PczJqsLL7g"
      },
      "execution_count": null,
      "outputs": []
    },
    {
      "cell_type": "code",
      "source": [
        "df7=df7.dropna(axis=0, how='all')"
      ],
      "metadata": {
        "id": "DjYdTciQilLU"
      },
      "execution_count": null,
      "outputs": []
    },
    {
      "cell_type": "code",
      "source": [
        "df6.sort_values(by=['Év','Régiók, fejlesztési régiók és makrorégiók'], inplace=True)\n",
        "df7.sort_values(by=['Év','Régiók, fejlesztési régiók és makrorégiók'], inplace=True)"
      ],
      "metadata": {
        "id": "hMhzdNE_jRrT"
      },
      "execution_count": null,
      "outputs": []
    },
    {
      "cell_type": "markdown",
      "source": [
        "folosleges szóközök törlése a szavak előtt"
      ],
      "metadata": {
        "id": "Rkaj_gnhqopy"
      }
    },
    {
      "cell_type": "code",
      "source": [
        "df7['Régiók, fejlesztési régiók és makrorégiók'] = df7['Régiók, fejlesztési régiók és makrorégiók'].apply(lambda x: ' '.join(x.split(None, 1)))\n",
        "df6['Régiók, fejlesztési régiók és makrorégiók'] = df6['Régiók, fejlesztési régiók és makrorégiók'].apply(lambda x: ' '.join(x.split(None, 1)))"
      ],
      "metadata": {
        "id": "wgwLWkzbqTfx"
      },
      "execution_count": null,
      "outputs": []
    },
    {
      "cell_type": "markdown",
      "source": [
        "nem kell concat mert megoldodtt a problema es mergel jobb"
      ],
      "metadata": {
        "id": "OT6nYb05MKhp"
      }
    },
    {
      "cell_type": "code",
      "source": [
        "df = pd.concat([df6.reset_index(drop=True),df7.reset_index(drop=True)], axis=1)"
      ],
      "metadata": {
        "id": "YSiIT3y7f0cU"
      },
      "execution_count": null,
      "outputs": []
    },
    {
      "cell_type": "code",
      "source": [
        "df=df1"
      ],
      "metadata": {
        "id": "IIzXmjopsmbO"
      },
      "execution_count": null,
      "outputs": []
    },
    {
      "cell_type": "code",
      "source": [
        "df['Méztermelés családonként']= (df['Kinyert méz'] * 1000) / df['Méhcsaládok száma']"
      ],
      "metadata": {
        "id": "cLFo_Nlyspxa"
      },
      "execution_count": null,
      "outputs": []
    },
    {
      "cell_type": "code",
      "source": [
        "df['Ország']='Románia'"
      ],
      "metadata": {
        "colab": {
          "base_uri": "https://localhost:8080/"
        },
        "id": "-u58W66VxIfC",
        "outputId": "98d4c8bf-d8fc-4289-c1f9-135f8d77e801"
      },
      "execution_count": null,
      "outputs": [
        {
          "output_type": "stream",
          "name": "stderr",
          "text": [
            "<ipython-input-121-ea3e8ed998ca>:1: SettingWithCopyWarning: \n",
            "A value is trying to be set on a copy of a slice from a DataFrame.\n",
            "Try using .loc[row_indexer,col_indexer] = value instead\n",
            "\n",
            "See the caveats in the documentation: https://pandas.pydata.org/pandas-docs/stable/user_guide/indexing.html#returning-a-view-versus-a-copy\n",
            "  df['Ország']='Románia'\n"
          ]
        }
      ]
    },
    {
      "cell_type": "markdown",
      "source": [
        "kitorli a duplikalt oszlopokat"
      ],
      "metadata": {
        "id": "yG36wfqKxA7l"
      }
    },
    {
      "cell_type": "code",
      "source": [
        "df = df.loc[:,~df.columns.duplicated()]"
      ],
      "metadata": {
        "id": "H5aF9910wtZ5"
      },
      "execution_count": null,
      "outputs": []
    },
    {
      "cell_type": "code",
      "source": [
        "df.to_excel('regio_termeles_jo.xlsx')\n",
        "df.to_csv('regio_termeles_jo.csv')"
      ],
      "metadata": {
        "id": "5-9Q92kmuS6f"
      },
      "execution_count": null,
      "outputs": []
    },
    {
      "cell_type": "code",
      "source": [
        "df"
      ],
      "metadata": {
        "colab": {
          "base_uri": "https://localhost:8080/",
          "height": 423
        },
        "id": "gwKWrP5ehWLc",
        "outputId": "141d315b-e92e-4728-dcd7-983208de8924"
      },
      "execution_count": null,
      "outputs": [
        {
          "output_type": "execute_result",
          "data": {
            "text/plain": [
              "    Régiók, fejlesztési régiók és makrorégiók  Méhcsaládok száma    Év  \\\n",
              "0                             1-es Makrorégió             271987  2008   \n",
              "1                             2-es Makrorégió             266741  2008   \n",
              "2                             3-as Makrorégió             172748  2008   \n",
              "3                             4-es Makrorégió             286883  2008   \n",
              "4                                        Arad              34279  2008   \n",
              "..                                        ...                ...   ...   \n",
              "805                                    Vaslui              56144  2022   \n",
              "806                                   Vrancea              39322  2022   \n",
              "807                                    Vâlcea             135697  2022   \n",
              "808                                Északkelet             249680  2022   \n",
              "809                               Északnyugat             298311  2022   \n",
              "\n",
              "     Kinyert méz  Méztermelés családonként  \n",
              "0           5507                 20.247291  \n",
              "1           5824                 21.833914  \n",
              "2           3134                 18.142033  \n",
              "3           5572                 19.422552  \n",
              "4            476                 13.886053  \n",
              "..           ...                       ...  \n",
              "805          947                 16.867341  \n",
              "806          654                 16.631911  \n",
              "807         2682                 19.764623  \n",
              "808         4258                 17.053829  \n",
              "809         4490                 15.051406  \n",
              "\n",
              "[810 rows x 5 columns]"
            ],
            "text/html": [
              "\n",
              "  <div id=\"df-e46bbaf6-4e71-4164-b9b6-e446f1085fe7\" class=\"colab-df-container\">\n",
              "    <div>\n",
              "<style scoped>\n",
              "    .dataframe tbody tr th:only-of-type {\n",
              "        vertical-align: middle;\n",
              "    }\n",
              "\n",
              "    .dataframe tbody tr th {\n",
              "        vertical-align: top;\n",
              "    }\n",
              "\n",
              "    .dataframe thead th {\n",
              "        text-align: right;\n",
              "    }\n",
              "</style>\n",
              "<table border=\"1\" class=\"dataframe\">\n",
              "  <thead>\n",
              "    <tr style=\"text-align: right;\">\n",
              "      <th></th>\n",
              "      <th>Régiók, fejlesztési régiók és makrorégiók</th>\n",
              "      <th>Méhcsaládok száma</th>\n",
              "      <th>Év</th>\n",
              "      <th>Kinyert méz</th>\n",
              "      <th>Méztermelés családonként</th>\n",
              "    </tr>\n",
              "  </thead>\n",
              "  <tbody>\n",
              "    <tr>\n",
              "      <th>0</th>\n",
              "      <td>1-es Makrorégió</td>\n",
              "      <td>271987</td>\n",
              "      <td>2008</td>\n",
              "      <td>5507</td>\n",
              "      <td>20.247291</td>\n",
              "    </tr>\n",
              "    <tr>\n",
              "      <th>1</th>\n",
              "      <td>2-es Makrorégió</td>\n",
              "      <td>266741</td>\n",
              "      <td>2008</td>\n",
              "      <td>5824</td>\n",
              "      <td>21.833914</td>\n",
              "    </tr>\n",
              "    <tr>\n",
              "      <th>2</th>\n",
              "      <td>3-as Makrorégió</td>\n",
              "      <td>172748</td>\n",
              "      <td>2008</td>\n",
              "      <td>3134</td>\n",
              "      <td>18.142033</td>\n",
              "    </tr>\n",
              "    <tr>\n",
              "      <th>3</th>\n",
              "      <td>4-es Makrorégió</td>\n",
              "      <td>286883</td>\n",
              "      <td>2008</td>\n",
              "      <td>5572</td>\n",
              "      <td>19.422552</td>\n",
              "    </tr>\n",
              "    <tr>\n",
              "      <th>4</th>\n",
              "      <td>Arad</td>\n",
              "      <td>34279</td>\n",
              "      <td>2008</td>\n",
              "      <td>476</td>\n",
              "      <td>13.886053</td>\n",
              "    </tr>\n",
              "    <tr>\n",
              "      <th>...</th>\n",
              "      <td>...</td>\n",
              "      <td>...</td>\n",
              "      <td>...</td>\n",
              "      <td>...</td>\n",
              "      <td>...</td>\n",
              "    </tr>\n",
              "    <tr>\n",
              "      <th>805</th>\n",
              "      <td>Vaslui</td>\n",
              "      <td>56144</td>\n",
              "      <td>2022</td>\n",
              "      <td>947</td>\n",
              "      <td>16.867341</td>\n",
              "    </tr>\n",
              "    <tr>\n",
              "      <th>806</th>\n",
              "      <td>Vrancea</td>\n",
              "      <td>39322</td>\n",
              "      <td>2022</td>\n",
              "      <td>654</td>\n",
              "      <td>16.631911</td>\n",
              "    </tr>\n",
              "    <tr>\n",
              "      <th>807</th>\n",
              "      <td>Vâlcea</td>\n",
              "      <td>135697</td>\n",
              "      <td>2022</td>\n",
              "      <td>2682</td>\n",
              "      <td>19.764623</td>\n",
              "    </tr>\n",
              "    <tr>\n",
              "      <th>808</th>\n",
              "      <td>Északkelet</td>\n",
              "      <td>249680</td>\n",
              "      <td>2022</td>\n",
              "      <td>4258</td>\n",
              "      <td>17.053829</td>\n",
              "    </tr>\n",
              "    <tr>\n",
              "      <th>809</th>\n",
              "      <td>Északnyugat</td>\n",
              "      <td>298311</td>\n",
              "      <td>2022</td>\n",
              "      <td>4490</td>\n",
              "      <td>15.051406</td>\n",
              "    </tr>\n",
              "  </tbody>\n",
              "</table>\n",
              "<p>810 rows × 5 columns</p>\n",
              "</div>\n",
              "    <div class=\"colab-df-buttons\">\n",
              "\n",
              "  <div class=\"colab-df-container\">\n",
              "    <button class=\"colab-df-convert\" onclick=\"convertToInteractive('df-e46bbaf6-4e71-4164-b9b6-e446f1085fe7')\"\n",
              "            title=\"Convert this dataframe to an interactive table.\"\n",
              "            style=\"display:none;\">\n",
              "\n",
              "  <svg xmlns=\"http://www.w3.org/2000/svg\" height=\"24px\" viewBox=\"0 -960 960 960\">\n",
              "    <path d=\"M120-120v-720h720v720H120Zm60-500h600v-160H180v160Zm220 220h160v-160H400v160Zm0 220h160v-160H400v160ZM180-400h160v-160H180v160Zm440 0h160v-160H620v160ZM180-180h160v-160H180v160Zm440 0h160v-160H620v160Z\"/>\n",
              "  </svg>\n",
              "    </button>\n",
              "\n",
              "  <style>\n",
              "    .colab-df-container {\n",
              "      display:flex;\n",
              "      gap: 12px;\n",
              "    }\n",
              "\n",
              "    .colab-df-convert {\n",
              "      background-color: #E8F0FE;\n",
              "      border: none;\n",
              "      border-radius: 50%;\n",
              "      cursor: pointer;\n",
              "      display: none;\n",
              "      fill: #1967D2;\n",
              "      height: 32px;\n",
              "      padding: 0 0 0 0;\n",
              "      width: 32px;\n",
              "    }\n",
              "\n",
              "    .colab-df-convert:hover {\n",
              "      background-color: #E2EBFA;\n",
              "      box-shadow: 0px 1px 2px rgba(60, 64, 67, 0.3), 0px 1px 3px 1px rgba(60, 64, 67, 0.15);\n",
              "      fill: #174EA6;\n",
              "    }\n",
              "\n",
              "    .colab-df-buttons div {\n",
              "      margin-bottom: 4px;\n",
              "    }\n",
              "\n",
              "    [theme=dark] .colab-df-convert {\n",
              "      background-color: #3B4455;\n",
              "      fill: #D2E3FC;\n",
              "    }\n",
              "\n",
              "    [theme=dark] .colab-df-convert:hover {\n",
              "      background-color: #434B5C;\n",
              "      box-shadow: 0px 1px 3px 1px rgba(0, 0, 0, 0.15);\n",
              "      filter: drop-shadow(0px 1px 2px rgba(0, 0, 0, 0.3));\n",
              "      fill: #FFFFFF;\n",
              "    }\n",
              "  </style>\n",
              "\n",
              "    <script>\n",
              "      const buttonEl =\n",
              "        document.querySelector('#df-e46bbaf6-4e71-4164-b9b6-e446f1085fe7 button.colab-df-convert');\n",
              "      buttonEl.style.display =\n",
              "        google.colab.kernel.accessAllowed ? 'block' : 'none';\n",
              "\n",
              "      async function convertToInteractive(key) {\n",
              "        const element = document.querySelector('#df-e46bbaf6-4e71-4164-b9b6-e446f1085fe7');\n",
              "        const dataTable =\n",
              "          await google.colab.kernel.invokeFunction('convertToInteractive',\n",
              "                                                    [key], {});\n",
              "        if (!dataTable) return;\n",
              "\n",
              "        const docLinkHtml = 'Like what you see? Visit the ' +\n",
              "          '<a target=\"_blank\" href=https://colab.research.google.com/notebooks/data_table.ipynb>data table notebook</a>'\n",
              "          + ' to learn more about interactive tables.';\n",
              "        element.innerHTML = '';\n",
              "        dataTable['output_type'] = 'display_data';\n",
              "        await google.colab.output.renderOutput(dataTable, element);\n",
              "        const docLink = document.createElement('div');\n",
              "        docLink.innerHTML = docLinkHtml;\n",
              "        element.appendChild(docLink);\n",
              "      }\n",
              "    </script>\n",
              "  </div>\n",
              "\n",
              "\n",
              "<div id=\"df-1bf234a6-e614-4404-a202-09303f3911a7\">\n",
              "  <button class=\"colab-df-quickchart\" onclick=\"quickchart('df-1bf234a6-e614-4404-a202-09303f3911a7')\"\n",
              "            title=\"Suggest charts\"\n",
              "            style=\"display:none;\">\n",
              "\n",
              "<svg xmlns=\"http://www.w3.org/2000/svg\" height=\"24px\"viewBox=\"0 0 24 24\"\n",
              "     width=\"24px\">\n",
              "    <g>\n",
              "        <path d=\"M19 3H5c-1.1 0-2 .9-2 2v14c0 1.1.9 2 2 2h14c1.1 0 2-.9 2-2V5c0-1.1-.9-2-2-2zM9 17H7v-7h2v7zm4 0h-2V7h2v10zm4 0h-2v-4h2v4z\"/>\n",
              "    </g>\n",
              "</svg>\n",
              "  </button>\n",
              "\n",
              "<style>\n",
              "  .colab-df-quickchart {\n",
              "      --bg-color: #E8F0FE;\n",
              "      --fill-color: #1967D2;\n",
              "      --hover-bg-color: #E2EBFA;\n",
              "      --hover-fill-color: #174EA6;\n",
              "      --disabled-fill-color: #AAA;\n",
              "      --disabled-bg-color: #DDD;\n",
              "  }\n",
              "\n",
              "  [theme=dark] .colab-df-quickchart {\n",
              "      --bg-color: #3B4455;\n",
              "      --fill-color: #D2E3FC;\n",
              "      --hover-bg-color: #434B5C;\n",
              "      --hover-fill-color: #FFFFFF;\n",
              "      --disabled-bg-color: #3B4455;\n",
              "      --disabled-fill-color: #666;\n",
              "  }\n",
              "\n",
              "  .colab-df-quickchart {\n",
              "    background-color: var(--bg-color);\n",
              "    border: none;\n",
              "    border-radius: 50%;\n",
              "    cursor: pointer;\n",
              "    display: none;\n",
              "    fill: var(--fill-color);\n",
              "    height: 32px;\n",
              "    padding: 0;\n",
              "    width: 32px;\n",
              "  }\n",
              "\n",
              "  .colab-df-quickchart:hover {\n",
              "    background-color: var(--hover-bg-color);\n",
              "    box-shadow: 0 1px 2px rgba(60, 64, 67, 0.3), 0 1px 3px 1px rgba(60, 64, 67, 0.15);\n",
              "    fill: var(--button-hover-fill-color);\n",
              "  }\n",
              "\n",
              "  .colab-df-quickchart-complete:disabled,\n",
              "  .colab-df-quickchart-complete:disabled:hover {\n",
              "    background-color: var(--disabled-bg-color);\n",
              "    fill: var(--disabled-fill-color);\n",
              "    box-shadow: none;\n",
              "  }\n",
              "\n",
              "  .colab-df-spinner {\n",
              "    border: 2px solid var(--fill-color);\n",
              "    border-color: transparent;\n",
              "    border-bottom-color: var(--fill-color);\n",
              "    animation:\n",
              "      spin 1s steps(1) infinite;\n",
              "  }\n",
              "\n",
              "  @keyframes spin {\n",
              "    0% {\n",
              "      border-color: transparent;\n",
              "      border-bottom-color: var(--fill-color);\n",
              "      border-left-color: var(--fill-color);\n",
              "    }\n",
              "    20% {\n",
              "      border-color: transparent;\n",
              "      border-left-color: var(--fill-color);\n",
              "      border-top-color: var(--fill-color);\n",
              "    }\n",
              "    30% {\n",
              "      border-color: transparent;\n",
              "      border-left-color: var(--fill-color);\n",
              "      border-top-color: var(--fill-color);\n",
              "      border-right-color: var(--fill-color);\n",
              "    }\n",
              "    40% {\n",
              "      border-color: transparent;\n",
              "      border-right-color: var(--fill-color);\n",
              "      border-top-color: var(--fill-color);\n",
              "    }\n",
              "    60% {\n",
              "      border-color: transparent;\n",
              "      border-right-color: var(--fill-color);\n",
              "    }\n",
              "    80% {\n",
              "      border-color: transparent;\n",
              "      border-right-color: var(--fill-color);\n",
              "      border-bottom-color: var(--fill-color);\n",
              "    }\n",
              "    90% {\n",
              "      border-color: transparent;\n",
              "      border-bottom-color: var(--fill-color);\n",
              "    }\n",
              "  }\n",
              "</style>\n",
              "\n",
              "  <script>\n",
              "    async function quickchart(key) {\n",
              "      const quickchartButtonEl =\n",
              "        document.querySelector('#' + key + ' button');\n",
              "      quickchartButtonEl.disabled = true;  // To prevent multiple clicks.\n",
              "      quickchartButtonEl.classList.add('colab-df-spinner');\n",
              "      try {\n",
              "        const charts = await google.colab.kernel.invokeFunction(\n",
              "            'suggestCharts', [key], {});\n",
              "      } catch (error) {\n",
              "        console.error('Error during call to suggestCharts:', error);\n",
              "      }\n",
              "      quickchartButtonEl.classList.remove('colab-df-spinner');\n",
              "      quickchartButtonEl.classList.add('colab-df-quickchart-complete');\n",
              "    }\n",
              "    (() => {\n",
              "      let quickchartButtonEl =\n",
              "        document.querySelector('#df-1bf234a6-e614-4404-a202-09303f3911a7 button');\n",
              "      quickchartButtonEl.style.display =\n",
              "        google.colab.kernel.accessAllowed ? 'block' : 'none';\n",
              "    })();\n",
              "  </script>\n",
              "</div>\n",
              "    </div>\n",
              "  </div>\n"
            ],
            "application/vnd.google.colaboratory.intrinsic+json": {
              "type": "dataframe",
              "variable_name": "df",
              "summary": "{\n  \"name\": \"df\",\n  \"rows\": 810,\n  \"fields\": [\n    {\n      \"column\": \"R\\u00e9gi\\u00f3k, fejleszt\\u00e9si r\\u00e9gi\\u00f3k \\u00e9s makror\\u00e9gi\\u00f3k\",\n      \"properties\": {\n        \"dtype\": \"category\",\n        \"num_unique_values\": 54,\n        \"samples\": [\n          \"D\\u00e9l\",\n          \"Vaslui\",\n          \"Tulcea\"\n        ],\n        \"semantic_type\": \"\",\n        \"description\": \"\"\n      }\n    },\n    {\n      \"column\": \"M\\u00e9hcsal\\u00e1dok sz\\u00e1ma\",\n      \"properties\": {\n        \"dtype\": \"number\",\n        \"std\": 108769,\n        \"min\": 447,\n        \"max\": 592997,\n        \"num_unique_values\": 801,\n        \"samples\": [\n          248639,\n          33687,\n          24650\n        ],\n        \"semantic_type\": \"\",\n        \"description\": \"\"\n      }\n    },\n    {\n      \"column\": \"\\u00c9v\",\n      \"properties\": {\n        \"dtype\": \"number\",\n        \"std\": 4,\n        \"min\": 2008,\n        \"max\": 2022,\n        \"num_unique_values\": 15,\n        \"samples\": [\n          2017,\n          2019,\n          2008\n        ],\n        \"semantic_type\": \"\",\n        \"description\": \"\"\n      }\n    },\n    {\n      \"column\": \"Kinyert m\\u00e9z\",\n      \"properties\": {\n        \"dtype\": \"number\",\n        \"std\": 1837,\n        \"min\": 10,\n        \"max\": 9994,\n        \"num_unique_values\": 638,\n        \"samples\": [\n          439,\n          708,\n          383\n        ],\n        \"semantic_type\": \"\",\n        \"description\": \"\"\n      }\n    },\n    {\n      \"column\": \"M\\u00e9ztermel\\u00e9s csal\\u00e1donk\\u00e9nt\",\n      \"properties\": {\n        \"dtype\": \"number\",\n        \"std\": 4.619881924057906,\n        \"min\": 2.8578913524970826,\n        \"max\": 52.75718060172164,\n        \"num_unique_values\": 810,\n        \"samples\": [\n          25.00434858236215,\n          16.78915258468692,\n          11.59274193548387\n        ],\n        \"semantic_type\": \"\",\n        \"description\": \"\"\n      }\n    }\n  ]\n}"
            }
          },
          "metadata": {},
          "execution_count": 17
        }
      ]
    }
  ]
}